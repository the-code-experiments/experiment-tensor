{
 "cells": [
  {
   "cell_type": "markdown",
   "metadata": {},
   "source": [
    "# Linear Regression\n",
    "\n",
    "* Linear regression is a linear model.\n",
    "* A model that assumes a linear relationship between the input variable (x) and the single output variable (y).\n",
    "* (y) can be calculated from a linear combination of the input variable (x).\n",
    "* When there is a single input variable (x), the method is referred to as **simple linear regression**.\n",
    "* When there are multiple input variable, its often refers to as **multiple linear regression**.\n",
    "* Input (x) and output (y) are numeric.\n",
    "\n",
    "In Math, the linear regression line has an equation of the form:\n",
    "\n",
    "```\n",
    "y = xw + b\n",
    "```\n",
    "\n",
    "where,\n",
    "\n",
    "* x is the explanatory variable\n",
    "* y is the dependent variable\n",
    "* w is the slope of the line\n",
    "* b is the intercept (the value of y when x = 0)"
   ]
  },
  {
   "cell_type": "code",
   "execution_count": 32,
   "metadata": {},
   "outputs": [],
   "source": [
    "# Import the relevant libraries\n",
    "import numpy as np\n",
    "import matplotlib.pyplot as plt # Optional, not required for model algorithm"
   ]
  },
  {
   "cell_type": "markdown",
   "metadata": {},
   "source": [
    "## Generate random input data to train on\n",
    "\n",
    "1. Draw samples from a [uniform distribution](http://mathworld.wolfram.com/UniformDistribution.html) using [Numpy's Random Uniform method](https://het.as.utexas.edu/HET/Software/Numpy/reference/generated/numpy.random.uniform.html).\n",
    "\n",
    "2. In uniform distribution, `size = number of observations (n) * number of variables (k)`\n",
    "\n",
    "```\n",
    "input = n * k = 1000 * 1 [here k=1, as we are consider only 1 input (x)]\n",
    "```\n",
    "\n",
    "We have create a input data like `1000 * 1` matrix, which means `1` variables problem with `1000` observations."
   ]
  },
  {
   "cell_type": "code",
   "execution_count": 33,
   "metadata": {},
   "outputs": [],
   "source": [
    "observations = 1000\n",
    "\n",
    "\"\"\"\n",
    "1. Here, we are creating 2 input variables (x) and (z) problem with 1000 observations.\n",
    "\"\"\"\n",
    "x = np.random.uniform(low=-10, high=10, size=(observations, 1))\n",
    "z = np.random.uniform(low=-10, high=10, size=(observations, 1))"
   ]
  },
  {
   "cell_type": "markdown",
   "metadata": {},
   "source": [
    "* In our example we have 2 input variables and 1000 observations, thus we need `1000 * 2` matrix.\n",
    "* We will combine samples (x) and (z) into `1` martix, by using `column_stack` function which takes a sequence of 1D-array and stacks them into a single 2D-array, which results into a matrix of `1000 * 2`.\n",
    "\n",
    "Notes:\n",
    "\n",
    "* Dimension are important in linear algebram as we can only multiple matrix that are compatible.\n",
    "* We want to make sure we can multiple (x) times (w), since our linear model relies on that.\n",
    "* We have created an input data `1000 * 2`, means `2` variables problems with `1000` observations."
   ]
  },
  {
   "cell_type": "code",
   "execution_count": 34,
   "metadata": {},
   "outputs": [
    {
     "name": "stdout",
     "output_type": "stream",
     "text": [
      "(1000, 2)\n"
     ]
    }
   ],
   "source": [
    "inputs = np.column_stack((x, z))\n",
    "\n",
    "# Lets know the shape of the input to verify the results\n",
    "print(inputs.shape)"
   ]
  },
  {
   "cell_type": "markdown",
   "metadata": {},
   "source": [
    "## Create the targets we will aim at\n",
    "\n",
    "In supervized learning, below are the elements of the model:\n",
    "\n",
    "1. Inputs\n",
    "2. Weights\n",
    "3. Biases\n",
    "4. Outputs\n",
    "5. Targets\n",
    "\n",
    "**Notes**\n",
    "\n",
    "* 2 major parameters are `inputs` and `targets`.\n",
    "* We also need to generate targets.\n",
    "* Weights, Biases and Outputs varies based on the algorithms.\n",
    "\n",
    "Consider a targets = `f(x, z) = 2*x - 3*z + 5 + noise`. (*Completely arbitrarily chosen, We can try different functions as well.*)\n",
    "\n",
    "Conceptually, the algorithm must learn this is the function and the Weights are `2` and `-3`\n",
    "and the Bias is `5`.\n",
    "\n",
    "We are introducing noice will make data bit random. Real data always contents noise."
   ]
  },
  {
   "cell_type": "code",
   "execution_count": 35,
   "metadata": {},
   "outputs": [
    {
     "name": "stdout",
     "output_type": "stream",
     "text": [
      "(1000, 1)\n"
     ]
    }
   ],
   "source": [
    "noise = np.random.uniform(low=-1, high=1, size=(observations, 1))\n",
    "\n",
    "targets = 2*x - 3*z + 5 + noise\n",
    "# targets = 13*x - 7*z - 12 + noise # Try diff formula values\n",
    "\n",
    "# Lets verify the shape of target after the x and z are applied\n",
    "print(targets.shape)"
   ]
  },
  {
   "cell_type": "markdown",
   "metadata": {},
   "source": [
    "## Initialize variables\n",
    "\n",
    "* Lets review the linear model, `y = xw + b`.\n",
    "* The model will try to find the value for `w` and `b` such that the output (y) are closer to the targets (t).\n",
    "\n",
    "Steps:\n",
    "\n",
    "1. Our initial weights and biases will be picked randomly from the interval `[-0.1, 0.1]` and we will generate them using uniform function as we did it before.\n",
    "\n",
    "2. Set a learning rate. This is called `etas`. Different etas affect the speed of optimization.\n"
   ]
  },
  {
   "cell_type": "code",
   "execution_count": 36,
   "metadata": {},
   "outputs": [
    {
     "name": "stdout",
     "output_type": "stream",
     "text": [
      "[[-0.03759142]\n",
      " [ 0.0336922 ]]\n",
      "[-0.05975424]\n"
     ]
    }
   ],
   "source": [
    "init_range = 0.1\n",
    "\n",
    "# As we have 2 input variables, we have 2 weights and we need to get the sample of size (2 * 1)\n",
    "weights = np.random.uniform(low=-init_range, high=init_range, size=(2, 1))\n",
    "print(weights)\n",
    "\n",
    "# Biases is a scale (1 * 1), if there are \"n\" outputs, there will \"n\" biases.\n",
    "biases = np.random.uniform(low=-init_range, high=init_range, size=1)\n",
    "print(biases)\n",
    "\n",
    "# Set learning rate\n",
    "learning_rate = 0.02 # etas"
   ]
  },
  {
   "cell_type": "markdown",
   "metadata": {},
   "source": [
    "## Train the model\n",
    "\n",
    "Since this is an iterative problem, we need an iteration which has below steps:\n",
    "\n",
    "1. Calculate outputs\n",
    "2. Campare outputs to targets through the loss function (L2-norm loss function)\n",
    "3. Adjust weights and biases\n",
    "4. Repeat steps from (1) to (3) util we get the better match\n",
    "\n",
    "**References**\n",
    "\n",
    "* [Different between L1-norm vs L2-norm loss function](http://www.chioka.in/differences-between-l1-and-l2-as-loss-function-and-regularization/).\n",
    "* [On Keggle L1-norm vs L2-norm loss functions](https://www.kaggle.com/residentmario/l1-norms-versus-l2-norms)\n"
   ]
  },
  {
   "cell_type": "code",
   "execution_count": 37,
   "metadata": {},
   "outputs": [
    {
     "name": "stdout",
     "output_type": "stream",
     "text": [
      "217.48043773578937\n",
      "39.83416309188944\n",
      "15.89605111940113\n",
      "12.244817835902243\n",
      "11.350601483865576\n",
      "10.851778384099234\n",
      "10.42302825500306\n",
      "10.018297266405163\n",
      "9.630510805744201\n",
      "9.258126108944456\n",
      "8.900411174060658\n",
      "8.556770685056035\n",
      "8.226648347303888\n",
      "7.909512014497566\n",
      "7.604850803087149\n",
      "7.312173974141362\n",
      "7.0310100998325\n",
      "6.760906297798266\n",
      "6.501427500745809\n",
      "6.252155755536424\n",
      "6.01268954995159\n",
      "5.7826431659578885\n",
      "5.5616460584147465\n",
      "5.3493422582221175\n",
      "5.1453897989464545\n",
      "4.949460166001361\n",
      "4.761237767495666\n",
      "4.580419425896653\n",
      "4.406713889689551\n",
      "4.23984136424681\n",
      "4.079533061151396\n",
      "3.925530765248295\n",
      "3.777586418726767\n",
      "3.635461721563463\n",
      "3.4989277476828056\n",
      "3.3677645762163806\n",
      "3.241760937267382\n",
      "3.1207138716095195\n",
      "3.00442840377228\n",
      "2.892717227985944\n",
      "2.785400406480503\n",
      "2.6823050796525214\n",
      "2.583265187633079\n",
      "2.4881212028083426\n",
      "2.396719872861896\n",
      "2.3089139739249473\n",
      "2.2245620734368146\n",
      "2.143528302333702\n",
      "2.065682136198826\n",
      "1.9908981850213885\n",
      "1.919055991225752\n",
      "1.8500398356454728\n",
      "1.7837385511297086\n",
      "1.7200453434817218\n",
      "1.658857619441098\n",
      "1.6000768214325727\n",
      "1.5436082688152963\n",
      "1.4893610053768604\n",
      "1.4372476528263878\n",
      "1.3871842700507386\n",
      "1.3390902179071205\n",
      "1.2928880293343181\n",
      "1.2485032845733122\n",
      "1.2058644912963383\n",
      "1.164902969451251\n",
      "1.1255527406357553\n",
      "1.0877504218232856\n",
      "1.051435123269372\n",
      "1.0165483504340287\n",
      "0.983033909762199\n",
      "0.9508378181704993\n",
      "0.9199082160944465\n",
      "0.8901952839561386\n",
      "0.8616511619178128\n",
      "0.8342298727920465\n",
      "0.8078872479844121\n",
      "0.7825808563493221\n",
      "0.7582699358444273\n",
      "0.7349153278735405\n",
      "0.7124794142122709\n",
      "0.6909260564148102\n",
      "0.6702205376042566\n",
      "0.6503295065527199\n",
      "0.6312209239611292\n",
      "0.6128640108522211\n",
      "0.5952291989935804\n",
      "0.5782880832708752\n",
      "0.5620133759345763\n",
      "0.5463788626464565\n",
      "0.5313593602550869\n",
      "0.5169306762322997\n",
      "0.5030695697052899\n",
      "0.48975371402159285\n",
      "0.4769616607866263\n",
      "0.4646728053158836\n",
      "0.4528673534461237\n",
      "0.44152628965210144\n",
      "0.43063134641748035\n",
      "0.42016497481059706\n",
      "0.4101103162176739\n"
     ]
    }
   ],
   "source": [
    "# Follow the Linear model equation (Y = xw + b)\n",
    "\n",
    "for i in range (100):\n",
    "    \n",
    "    \"\"\"\n",
    "    Calculates the outputs by given weights and biases\n",
    "    \"\"\"\n",
    "    outputs = np.dot(inputs, weights) + biases\n",
    "    \n",
    "    \"\"\"\n",
    "    Record the difference between outputs and targets\n",
    "    \"\"\"\n",
    "    deltas = outputs - targets\n",
    "    \n",
    "    \"\"\"\n",
    "    Calculate the loss function that compares the outputs to the targets\n",
    "    Use L2-norm loss/2 function to calculate the loss.\n",
    "    Below will give Loss/Obseraction = Mean (average) loss\n",
    "    \"\"\"\n",
    "    loss = np.sum(deltas ** 2) / 2 / observations\n",
    "    \n",
    "    \"\"\"\n",
    "    Print the loss for analysis to see at each step, whether the loss is decreasing\n",
    "    \"\"\"\n",
    "    print(loss)\n",
    "    \n",
    "    deltas_scaled = deltas / observations\n",
    "    \n",
    "    \"\"\"\n",
    "    Updates the weights and biases by following the Gradient descent methodology\n",
    "    \"\"\"\n",
    "    weights = weights - learning_rate * np.dot(inputs.T, deltas_scaled)\n",
    "    biases = biases - learning_rate * np.sum(deltas_scaled) "
   ]
  },
  {
   "cell_type": "markdown",
   "metadata": {},
   "source": [
    "## Print weights and biases and see if we have worked correctly!"
   ]
  },
  {
   "cell_type": "code",
   "execution_count": 38,
   "metadata": {},
   "outputs": [
    {
     "name": "stdout",
     "output_type": "stream",
     "text": [
      "[[ 1.99640501]\n",
      " [-2.98950591]] [4.32964086]\n"
     ]
    }
   ],
   "source": [
    "print(weights, biases)"
   ]
  },
  {
   "cell_type": "markdown",
   "metadata": {},
   "source": [
    "## Plot last outputs vs targets\n",
    "\n",
    "Since they are the last ones at the end of the training, they represent the final model accuracy.\n",
    "The closed this plot is to a 45 degree line, the closer target and output values are."
   ]
  },
  {
   "cell_type": "code",
   "execution_count": 39,
   "metadata": {},
   "outputs": [
    {
     "data": {
      "image/png": "[encoded data removed]",
      "text/plain": [
       "<Figure size 432x288 with 1 Axes>"
      ]
     },
     "metadata": {
      "needs_background": "light"
     },
     "output_type": "display_data"
    }
   ],
   "source": [
    "plt.plot(outputs, targets)\n",
    "plt.xlabel(\"Outputs\")\n",
    "plt.ylabel(\"Targets\")\n",
    "plt.show()"
   ]
  },
  {
   "cell_type": "code",
   "execution_count": null,
   "metadata": {},
   "outputs": [],
   "source": []
  }
 ],
 "metadata": {
  "kernelspec": {
   "display_name": "Python 3",
   "language": "python",
   "name": "python3"
  },
  "language_info": {
   "codemirror_mode": {
    "name": "ipython",
    "version": 3
   },
   "file_extension": ".py",
   "mimetype": "text/x-python",
   "name": "python",
   "nbconvert_exporter": "python",
   "pygments_lexer": "ipython3",
   "version": "3.6.0"
  }
 },
 "nbformat": 4,
 "nbformat_minor": 2
}
