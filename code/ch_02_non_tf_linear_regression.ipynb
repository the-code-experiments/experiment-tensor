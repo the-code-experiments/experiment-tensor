{
 "cells": [
  {
   "cell_type": "markdown",
   "metadata": {},
   "source": [
    "# Linear Regression\n",
    "\n",
    "* Linear regression is a linear model.\n",
    "* A model that assumes a linear relationship between the input variable (x) and the single output variable (y).\n",
    "* (y) can be calculated from a linear combination of the input variable (x).\n",
    "* When there is a single input variable (x), the method is referred to as **simple linear regression**.\n",
    "* When there are multiple input variable, its often refers to as **multiple linear regression**.\n",
    "* Input (x) and output (y) are numeric.\n",
    "\n",
    "In Math, the linear regression line has an equation of the form:\n",
    "\n",
    "```\n",
    "y = xw + b\n",
    "```\n",
    "\n",
    "where,\n",
    "\n",
    "* x is the explanatory variable\n",
    "* y is the dependent variable\n",
    "* w is the slope of the line\n",
    "* b is the intercept (the value of y when x = 0)"
   ]
  },
  {
   "cell_type": "code",
   "execution_count": 1,
   "metadata": {},
   "outputs": [],
   "source": [
    "# Import the relevant libraries\n",
    "import numpy as np\n",
    "import matplotlib.pyplot as plt # Optional, not required for model algorithm"
   ]
  },
  {
   "cell_type": "markdown",
   "metadata": {},
   "source": [
    "## Generate random input data to train on\n",
    "\n",
    "1. Draw samples from a [uniform distribution](http://mathworld.wolfram.com/UniformDistribution.html) using [Numpy's Random Uniform method](https://het.as.utexas.edu/HET/Software/Numpy/reference/generated/numpy.random.uniform.html).\n",
    "\n",
    "2. In uniform distribution, `size = number of observations (n) * number of variables (k)`\n",
    "\n",
    "```\n",
    "input = n * k = 1000 * 1 [here k=1, as we are consider only 1 input (x)]\n",
    "```\n",
    "\n",
    "We have create a input data like `1000 * 1` matrix, which means `1` variables problem with `1000` observations."
   ]
  },
  {
   "cell_type": "code",
   "execution_count": 2,
   "metadata": {},
   "outputs": [],
   "source": [
    "observations = 1000\n",
    "\n",
    "\"\"\"\n",
    "1. Here, we are creating 2 input variables (x) and (z) problem with 1000 observations.\n",
    "\"\"\"\n",
    "x = np.random.uniform(low=-10, high=10, size=(observations, 1))\n",
    "z = np.random.uniform(low=-10, high=10, size=(observations, 1))"
   ]
  },
  {
   "cell_type": "markdown",
   "metadata": {},
   "source": [
    "* In our example we have 2 input variables and 1000 observations, thus we need `1000 * 2` matrix.\n",
    "* We will combine samples (x) and (z) into `1` martix, by using `column_stack` function which takes a sequence of 1D-array and stacks them into a single 2D-array, which results into a matrix of `1000 * 2`.\n",
    "\n",
    "Notes:\n",
    "\n",
    "* Dimension are important in linear algebram as we can only multiple matrix that are compatible.\n",
    "* We want to make sure we can multiple (x) times (w), since our linear model relies on that.\n",
    "* We have created an input data `1000 * 2`, means `2` variables problems with `1000` observations."
   ]
  },
  {
   "cell_type": "code",
   "execution_count": 3,
   "metadata": {},
   "outputs": [
    {
     "name": "stdout",
     "output_type": "stream",
     "text": [
      "(1000, 2)\n"
     ]
    }
   ],
   "source": [
    "inputs = np.column_stack((x, z))\n",
    "\n",
    "# Lets know the shape of the input to verify the results\n",
    "print(inputs.shape)"
   ]
  },
  {
   "cell_type": "markdown",
   "metadata": {},
   "source": [
    "## Create the targets we will aim at\n",
    "\n",
    "In supervized learning, below are the elements of the model:\n",
    "\n",
    "1. Inputs\n",
    "2. Weights\n",
    "3. Biases\n",
    "4. Outputs\n",
    "5. Targets\n",
    "\n",
    "**Notes**\n",
    "\n",
    "* 2 major parameters are `inputs` and `targets`.\n",
    "* We also need to generate targets.\n",
    "* Weights, Biases and Outputs varies based on the algorithms.\n",
    "\n",
    "Consider a targets = `f(x, z) = 2*x - 3*z + 5 + noise`. (*Completely arbitrarily chosen, We can try different functions as well.*)\n",
    "\n",
    "Conceptually, the algorithm must learn this is the function and the Weights are `2` and `-3`\n",
    "and the Bias is `5`.\n",
    "\n",
    "We are introducing noice will make data bit random. Real data always contents noise."
   ]
  },
  {
   "cell_type": "code",
   "execution_count": 4,
   "metadata": {},
   "outputs": [
    {
     "name": "stdout",
     "output_type": "stream",
     "text": [
      "(1000, 1)\n"
     ]
    }
   ],
   "source": [
    "noise = np.random.uniform(low=-1, high=1, size=(observations, 1))\n",
    "\n",
    "targets = 2*x - 3*z + 5 + noise\n",
    "# targets = 13*x - 7*z - 12 + noise # Try diff formula values\n",
    "\n",
    "# Lets verify the shape of target after the x and z are applied\n",
    "print(targets.shape)"
   ]
  },
  {
   "cell_type": "markdown",
   "metadata": {},
   "source": [
    "## Initialize variables\n",
    "\n",
    "* Lets review the linear model, `y = xw + b`.\n",
    "* The model will try to find the value for `w` and `b` such that the output (y) are closer to the targets (t).\n",
    "\n",
    "Steps:\n",
    "\n",
    "1. Our initial weights and biases will be picked randomly from the interval `[-0.1, 0.1]` and we will generate them using uniform function as we did it before.\n",
    "\n",
    "2. Set a learning rate. This is called `etas`. Different etas affect the speed of optimization.\n"
   ]
  },
  {
   "cell_type": "code",
   "execution_count": 5,
   "metadata": {},
   "outputs": [
    {
     "name": "stdout",
     "output_type": "stream",
     "text": [
      "[[-0.04523302]\n",
      " [ 0.06382485]]\n",
      "[0.00107571]\n"
     ]
    }
   ],
   "source": [
    "init_range = 0.1\n",
    "\n",
    "# As we have 2 input variables, we have 2 weights and we need to get the sample of size (2 * 1)\n",
    "weights = np.random.uniform(low=-init_range, high=init_range, size=(2, 1))\n",
    "print(weights)\n",
    "\n",
    "# Biases is a scale (1 * 1), if there are \"n\" outputs, there will \"n\" biases.\n",
    "biases = np.random.uniform(low=-init_range, high=init_range, size=1)\n",
    "print(biases)\n",
    "\n",
    "# Set learning rate\n",
    "learning_rate = 0.02 # etas"
   ]
  },
  {
   "cell_type": "markdown",
   "metadata": {},
   "source": [
    "## Train the model\n",
    "\n",
    "Since this is an iterative problem, we need an iteration which has below steps:\n",
    "\n",
    "1. Calculate outputs\n",
    "2. Campare outputs to targets through the loss function (L2-norm loss function)\n",
    "3. Adjust weights and biases\n",
    "4. Repeat steps from (1) to (3) util we get the better match\n",
    "\n",
    "**References**\n",
    "\n",
    "* [Different between L1-norm vs L2-norm loss function](http://www.chioka.in/differences-between-l1-and-l2-as-loss-function-and-regularization/).\n",
    "* [On Keggle L1-norm vs L2-norm loss functions](https://www.kaggle.com/residentmario/l1-norms-versus-l2-norms)\n"
   ]
  },
  {
   "cell_type": "code",
   "execution_count": 6,
   "metadata": {},
   "outputs": [
    {
     "name": "stdout",
     "output_type": "stream",
     "text": [
      "251.2195686759099\n",
      "32.89392579554103\n",
      "13.410856306291171\n",
      "11.268394746942239\n",
      "10.680904661759728\n",
      "10.251071968831951\n",
      "9.851100230910404\n",
      "9.46824989137978\n",
      "9.10067436859692\n",
      "8.747641963306181\n",
      "8.408562712070577\n",
      "8.08288325973516\n",
      "7.770073813956333\n",
      "7.469625748842353\n",
      "7.181050570785504\n",
      "6.903879094909206\n",
      "6.63766067795568\n",
      "6.38196248496429\n",
      "6.136368785444924\n",
      "5.900480277442253\n",
      "5.6739134383228595\n",
      "5.456299901219239\n",
      "5.247285856115341\n",
      "5.046531474599584\n",
      "4.853710357350068\n",
      "4.668509003453666\n",
      "4.490626300696197\n",
      "4.3197730359948885\n",
      "4.15567142517725\n",
      "3.9980546613417935\n",
      "3.8466664810662823\n",
      "3.7012607477582686\n",
      "3.5616010514704657\n",
      "3.4274603245303195\n",
      "3.298620472358869\n",
      "3.1748720188786046\n",
      "3.056013765933866\n",
      "2.941852466169996\n",
      "2.832202508839432\n",
      "2.7268856180238683\n",
      "2.625730562781852\n",
      "2.5285728787505795\n",
      "2.4352546007491833\n",
      "2.345624005948848\n",
      "2.2595353671921283\n",
      "2.1768487160603875\n",
      "2.097429615304217\n",
      "2.0211489402667193\n",
      "1.9478826689444013\n",
      "1.8775116803442515\n",
      "1.8099215608092052\n",
      "1.7450024179971075\n",
      "1.6826487022106966\n",
      "1.6227590347881677\n",
      "1.565236043275238\n",
      "1.5099862031107947\n",
      "1.4569196855686641\n",
      "1.4059502117083302\n",
      "1.3569949120971079\n",
      "1.3099741920757129\n",
      "1.2648116023481721\n",
      "1.2214337146856686\n",
      "1.1797700025422233\n",
      "1.1397527263881222\n",
      "1.101316823574662\n",
      "1.06439980255112\n",
      "1.0289416412620003\n",
      "0.9948846895593276\n",
      "0.9621735754713581\n",
      "0.9307551151752673\n",
      "0.9005782265275024\n",
      "0.8715938460111585\n",
      "0.8437548489653661\n",
      "0.8170159729670151\n",
      "0.791333744240199\n",
      "0.7666664069737694\n",
      "0.7429738554320735\n",
      "0.7202175687484721\n",
      "0.6983605482956552\n",
      "0.677367257530906\n",
      "0.6572035642185133\n",
      "0.6378366849353975\n",
      "0.6192351317697258\n",
      "0.6013686611258472\n",
      "0.5842082245523227\n",
      "0.5677259215130902\n",
      "0.551894954024988\n",
      "0.5366895830878807\n",
      "0.5220850868365436\n",
      "0.5080577203462726\n",
      "0.4945846770268659\n",
      "0.4816440515422094\n",
      "0.4692148041951815\n",
      "0.4572767267199641\n",
      "0.4458104094261513\n",
      "0.4347972096412342\n",
      "0.4242192214001498\n",
      "0.4140592463326168\n",
      "0.404300765700924\n",
      "0.3949279135427107\n"
     ]
    }
   ],
   "source": [
    "# Follow the Linear model equation (Y = xw + b)\n",
    "\n",
    "for i in range (100):\n",
    "    \n",
    "    \"\"\"\n",
    "    Calculates the outputs by given weights and biases\n",
    "    \"\"\"\n",
    "    outputs = np.dot(inputs, weights) + biases\n",
    "    \n",
    "    \"\"\"\n",
    "    Record the difference between outputs and targets\n",
    "    \"\"\"\n",
    "    deltas = outputs - targets\n",
    "    \n",
    "    \"\"\"\n",
    "    Calculate the loss function that compares the outputs to the targets\n",
    "    Use L2-norm loss/2 function to calculate the loss.\n",
    "    Below will give Loss/Obseraction = Mean (average) loss\n",
    "    \"\"\"\n",
    "    loss = np.sum(deltas ** 2) / 2 / observations\n",
    "    \n",
    "    \"\"\"\n",
    "    Print the loss for analysis to see at each step, whether the loss is decreasing\n",
    "    \"\"\"\n",
    "    print(loss)\n",
    "    \n",
    "    deltas_scaled = deltas / observations\n",
    "    \n",
    "    \"\"\"\n",
    "    Updates the weights and biases by following the Gradient descent methodology\n",
    "    \"\"\"\n",
    "    weights = weights - learning_rate * np.dot(inputs.T, deltas_scaled)\n",
    "    biases = biases - learning_rate * np.sum(deltas_scaled) "
   ]
  },
  {
   "cell_type": "markdown",
   "metadata": {},
   "source": [
    "## Print weights and biases and see if we have worked correctly!"
   ]
  },
  {
   "cell_type": "code",
   "execution_count": 7,
   "metadata": {},
   "outputs": [
    {
     "name": "stdout",
     "output_type": "stream",
     "text": [
      "[[ 2.00504114]\n",
      " [-2.99232282]] [4.31250879]\n"
     ]
    }
   ],
   "source": [
    "print(weights, biases)"
   ]
  },
  {
   "cell_type": "markdown",
   "metadata": {},
   "source": [
    "## Plot last outputs vs targets\n",
    "\n",
    "Since they are the last ones at the end of the training, they represent the final model accuracy.\n",
    "The closed this plot is to a 45 degree line, the closer target and output values are."
   ]
  },
  {
   "cell_type": "code",
   "execution_count": 8,
   "metadata": {},
   "outputs": [
    {
     "data": {
      "image/png": "[encoded data removed]",
      "text/plain": [
       "<Figure size 432x288 with 1 Axes>"
      ]
     },
     "metadata": {
      "needs_background": "light"
     },
     "output_type": "display_data"
    }
   ],
   "source": [
    "plt.plot(outputs, targets)\n",
    "plt.xlabel(\"Outputs\")\n",
    "plt.ylabel(\"Targets\")\n",
    "plt.show()"
   ]
  },
  {
   "cell_type": "code",
   "execution_count": null,
   "metadata": {},
   "outputs": [],
   "source": []
  }
 ],
 "metadata": {
  "kernelspec": {
   "display_name": "Python 3",
   "language": "python",
   "name": "python3"
  },
  "language_info": {
   "codemirror_mode": {
    "name": "ipython",
    "version": 3
   },
   "file_extension": ".py",
   "mimetype": "text/x-python",
   "name": "python",
   "nbconvert_exporter": "python",
   "pygments_lexer": "ipython3",
   "version": "3.6.0"
  }
 },
 "nbformat": 4,
 "nbformat_minor": 2
}
