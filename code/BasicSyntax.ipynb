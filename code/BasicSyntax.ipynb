{
 "cells": [
  {
   "cell_type": "markdown",
   "metadata": {},
   "source": [
    "# TensorFlow basics syntax"
   ]
  },
  {
   "cell_type": "code",
   "execution_count": 12,
   "metadata": {},
   "outputs": [
    {
     "name": "stdout",
     "output_type": "stream",
     "text": [
      "1.15.0-dev20190718\n"
     ]
    }
   ],
   "source": [
    "import tensorflow as tf\n",
    "\n",
    "print(tf.__version__)"
   ]
  },
  {
   "cell_type": "code",
   "execution_count": 19,
   "metadata": {},
   "outputs": [
    {
     "data": {
      "text/plain": [
       "tensorflow.python.framework.ops.Tensor"
      ]
     },
     "execution_count": 19,
     "metadata": {},
     "output_type": "execute_result"
    }
   ],
   "source": [
    "message = tf.constant(\"Hello\")\n",
    "\n",
    "type(message)"
   ]
  },
  {
   "cell_type": "code",
   "execution_count": 20,
   "metadata": {},
   "outputs": [
    {
     "data": {
      "text/plain": [
       "b'Hello'"
      ]
     },
     "execution_count": 20,
     "metadata": {},
     "output_type": "execute_result"
    }
   ],
   "source": [
    "# with tf.Session() as sess: (Old syntax)\n",
    "with tf.compat.v1.Session() as sess:\n",
    "    result = sess.run(message)\n",
    "\n",
    "result\n",
    "\n",
    "# b means bytes literal"
   ]
  },
  {
   "cell_type": "code",
   "execution_count": 22,
   "metadata": {},
   "outputs": [],
   "source": [
    "a = tf.constant(10)\n",
    "b = tf.constant(20)"
   ]
  },
  {
   "cell_type": "code",
   "execution_count": 23,
   "metadata": {},
   "outputs": [
    {
     "data": {
      "text/plain": [
       "<tf.Tensor 'add_1:0' shape=() dtype=int32>"
      ]
     },
     "execution_count": 23,
     "metadata": {},
     "output_type": "execute_result"
    }
   ],
   "source": [
    "a + b"
   ]
  },
  {
   "cell_type": "code",
   "execution_count": 24,
   "metadata": {},
   "outputs": [
    {
     "data": {
      "text/plain": [
       "<tf.Tensor 'add_2:0' shape=() dtype=int32>"
      ]
     },
     "execution_count": 24,
     "metadata": {},
     "output_type": "execute_result"
    }
   ],
   "source": [
    "a + b"
   ]
  },
  {
   "cell_type": "code",
   "execution_count": 25,
   "metadata": {},
   "outputs": [
    {
     "name": "stdout",
     "output_type": "stream",
     "text": [
      "30\n"
     ]
    }
   ],
   "source": [
    "with tf.compat.v1.Session() as sess:\n",
    "    result = sess.run(a + b)\n",
    "\n",
    "print(result)"
   ]
  },
  {
   "cell_type": "code",
   "execution_count": 37,
   "metadata": {},
   "outputs": [
    {
     "name": "stdout",
     "output_type": "stream",
     "text": [
      "10\n",
      "\n",
      "\n",
      "[[10 10 10 10]\n",
      " [10 10 10 10]\n",
      " [10 10 10 10]\n",
      " [10 10 10 10]]\n",
      "\n",
      "\n",
      "[[0. 0. 0. 0.]\n",
      " [0. 0. 0. 0.]\n",
      " [0. 0. 0. 0.]\n",
      " [0. 0. 0. 0.]]\n",
      "\n",
      "\n",
      "[[1. 1. 1. 1.]\n",
      " [1. 1. 1. 1.]\n",
      " [1. 1. 1. 1.]\n",
      " [1. 1. 1. 1.]]\n",
      "\n",
      "\n",
      "[[-0.1505312  -0.17575602 -1.6852697   0.10362425]\n",
      " [-1.5839994  -0.5604833  -0.2462411   0.93608123]\n",
      " [ 2.7431006  -0.15747434 -0.21341136 -0.14698434]\n",
      " [-0.9650886   0.67266417  2.942394   -0.2091525 ]]\n",
      "\n",
      "\n",
      "[[0.02560794 0.96614754 0.64473116 0.09973896]\n",
      " [0.8053353  0.28498566 0.79149854 0.87327003]\n",
      " [0.94782066 0.86811864 0.9237331  0.83718526]\n",
      " [0.00757194 0.78205585 0.3297671  0.9147426 ]]\n",
      "\n",
      "\n"
     ]
    }
   ],
   "source": [
    "num_const = tf.constant(10)\n",
    "\n",
    "fill_matrix = tf.fill((4, 4), 10)\n",
    "\n",
    "zeros = tf.zeros((4, 4))\n",
    "\n",
    "ones = tf.ones((4, 4))\n",
    "\n",
    "rand_nor = tf.random_normal((4, 4), mean=0, stddev=1.0)\n",
    "\n",
    "rand_uni = tf.random_uniform((4, 4), minval=0, maxval=1)\n",
    "\n",
    "operations = [num_const, fill_matrix, zeros, ones, rand_nor, rand_uni]\n",
    "\n",
    "# only works with Jupyter notebook\n",
    "sess = tf.InteractiveSession()\n",
    "\n",
    "for op in operations:\n",
    "    print(sess.run(op))\n",
    "    print('\\n')\n",
    "\n",
    "# for op in operations:\n",
    "#     print(op.eval())\n",
    "#     print('\\n')\n",
    "\n",
    "sess.close()"
   ]
  },
  {
   "cell_type": "code",
   "execution_count": 43,
   "metadata": {},
   "outputs": [
    {
     "name": "stdout",
     "output_type": "stream",
     "text": [
      "a:  (2, 2)\n",
      "b:  (2, 1)\n"
     ]
    }
   ],
   "source": [
    "a = tf.constant([\n",
    "    [1, 2],\n",
    "    [3, 4]\n",
    "])\n",
    "\n",
    "print(\"a: \", a.get_shape())\n",
    "\n",
    "b = tf.constant([\n",
    "    [10], [100]\n",
    "])\n",
    "\n",
    "print(\"b: \", b.get_shape())\n",
    "\n",
    "result = tf.matmul(a, b)\n",
    "\n",
    "with tf.compat.v1.Session() as sess:\n",
    "    print(sess.run(result)"
   ]
  },
  {
   "cell_type": "code",
   "execution_count": null,
   "metadata": {},
   "outputs": [],
   "source": []
  }
 ],
 "metadata": {
  "kernelspec": {
   "display_name": "Python 3",
   "language": "python",
   "name": "python3"
  },
  "language_info": {
   "codemirror_mode": {
    "name": "ipython",
    "version": 3
   },
   "file_extension": ".py",
   "mimetype": "text/x-python",
   "name": "python",
   "nbconvert_exporter": "python",
   "pygments_lexer": "ipython3",
   "version": "3.6.4"
  },
  "toc": {
   "base_numbering": 1,
   "nav_menu": {},
   "number_sections": true,
   "sideBar": true,
   "skip_h1_title": false,
   "title_cell": "Table of Contents",
   "title_sidebar": "Contents",
   "toc_cell": false,
   "toc_position": {},
   "toc_section_display": true,
   "toc_window_display": false
  }
 },
 "nbformat": 4,
 "nbformat_minor": 2
}
