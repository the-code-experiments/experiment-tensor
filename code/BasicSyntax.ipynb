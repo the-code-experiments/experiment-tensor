{
 "cells": [
  {
   "cell_type": "markdown",
   "metadata": {},
   "source": [
    "# Tensorflow syntax basics"
   ]
  },
  {
   "cell_type": "code",
   "execution_count": 18,
   "metadata": {},
   "outputs": [
    {
     "name": "stdout",
     "output_type": "stream",
     "text": [
      "1.14.0\n"
     ]
    }
   ],
   "source": [
    "import tensorflow as tf\n",
    "\n",
    "print(tf.__version__)"
   ]
  },
  {
   "cell_type": "code",
   "execution_count": 19,
   "metadata": {},
   "outputs": [
    {
     "data": {
      "text/plain": [
       "tensorflow.python.framework.ops.Tensor"
      ]
     },
     "execution_count": 19,
     "metadata": {},
     "output_type": "execute_result"
    }
   ],
   "source": [
    "message = tf.constant(\"Hello\")\n",
    "\n",
    "type(message)"
   ]
  },
  {
   "cell_type": "code",
   "execution_count": 20,
   "metadata": {},
   "outputs": [
    {
     "data": {
      "text/plain": [
       "b'Hello'"
      ]
     },
     "execution_count": 20,
     "metadata": {},
     "output_type": "execute_result"
    }
   ],
   "source": [
    "# with tf.Session() as sess: (Old syntax)\n",
    "with tf.compat.v1.Session() as sess:\n",
    "    result = sess.run(message)\n",
    "\n",
    "result\n",
    "\n",
    "# b means bytes literal"
   ]
  },
  {
   "cell_type": "code",
   "execution_count": 21,
   "metadata": {},
   "outputs": [],
   "source": [
    "a = tf.constant(10)\n",
    "b = tf.constant(20)"
   ]
  },
  {
   "cell_type": "code",
   "execution_count": 22,
   "metadata": {},
   "outputs": [
    {
     "data": {
      "text/plain": [
       "<tf.Tensor 'add_3:0' shape=() dtype=int32>"
      ]
     },
     "execution_count": 22,
     "metadata": {},
     "output_type": "execute_result"
    }
   ],
   "source": [
    "a + b"
   ]
  },
  {
   "cell_type": "code",
   "execution_count": 23,
   "metadata": {},
   "outputs": [
    {
     "data": {
      "text/plain": [
       "<tf.Tensor 'add_4:0' shape=() dtype=int32>"
      ]
     },
     "execution_count": 23,
     "metadata": {},
     "output_type": "execute_result"
    }
   ],
   "source": [
    "a + b"
   ]
  },
  {
   "cell_type": "code",
   "execution_count": 24,
   "metadata": {},
   "outputs": [
    {
     "name": "stdout",
     "output_type": "stream",
     "text": [
      "30\n"
     ]
    }
   ],
   "source": [
    "with tf.compat.v1.Session() as sess:\n",
    "    result = sess.run(a + b)\n",
    "\n",
    "print(result)"
   ]
  },
  {
   "cell_type": "code",
   "execution_count": 25,
   "metadata": {},
   "outputs": [
    {
     "name": "stdout",
     "output_type": "stream",
     "text": [
      "10\n",
      "\n",
      "\n",
      "[[10 10 10 10]\n",
      " [10 10 10 10]\n",
      " [10 10 10 10]\n",
      " [10 10 10 10]]\n",
      "\n",
      "\n",
      "[[0. 0. 0. 0.]\n",
      " [0. 0. 0. 0.]\n",
      " [0. 0. 0. 0.]\n",
      " [0. 0. 0. 0.]]\n",
      "\n",
      "\n",
      "[[1. 1. 1. 1.]\n",
      " [1. 1. 1. 1.]\n",
      " [1. 1. 1. 1.]\n",
      " [1. 1. 1. 1.]]\n",
      "\n",
      "\n",
      "[[-0.16538543  0.53596294 -1.2627692  -2.4970055 ]\n",
      " [-0.2690669   0.61593264  0.2710623   0.4029504 ]\n",
      " [-0.21537758 -0.5924639   0.7779131  -1.8915228 ]\n",
      " [ 0.9896323  -1.3338048   1.1479089  -0.4059097 ]]\n",
      "\n",
      "\n",
      "[[0.02032733 0.4636463  0.10303307 0.9051602 ]\n",
      " [0.9459379  0.88096833 0.87060773 0.4547013 ]\n",
      " [0.70774317 0.87511635 0.5722861  0.10245442]\n",
      " [0.9564127  0.9828001  0.80818725 0.51771903]]\n",
      "\n",
      "\n"
     ]
    }
   ],
   "source": [
    "num_const = tf.constant(10)\n",
    "\n",
    "fill_matrix = tf.fill((4, 4), 10)\n",
    "\n",
    "zeros = tf.zeros((4, 4))\n",
    "\n",
    "ones = tf.ones((4, 4))\n",
    "\n",
    "rand_nor = tf.random_normal((4, 4), mean=0, stddev=1.0)\n",
    "\n",
    "rand_uni = tf.random_uniform((4, 4), minval=0, maxval=1)\n",
    "\n",
    "operations = [num_const, fill_matrix, zeros, ones, rand_nor, rand_uni]\n",
    "\n",
    "# only works with Jupyter notebook\n",
    "sess = tf.InteractiveSession()\n",
    "\n",
    "for op in operations:\n",
    "    print(sess.run(op))\n",
    "    print('\\n')\n",
    "\n",
    "# for op in operations:\n",
    "#     print(op.eval())\n",
    "#     print('\\n')\n",
    "\n",
    "sess.close()"
   ]
  },
  {
   "cell_type": "code",
   "execution_count": 35,
   "metadata": {},
   "outputs": [
    {
     "name": "stdout",
     "output_type": "stream",
     "text": [
      "a:  (2, 2)\n",
      "b:  (2, 1)\n",
      "[[8]\n",
      " [8]]\n"
     ]
    },
    {
     "ename": "NameError",
     "evalue": "name 'InteractiveSession' is not defined",
     "output_type": "error",
     "traceback": [
      "\u001b[0;31m---------------------------------------------------------------------------\u001b[0m",
      "\u001b[0;31mNameError\u001b[0m                                 Traceback (most recent call last)",
      "\u001b[0;32m<ipython-input-35-13948e132899>\u001b[0m in \u001b[0;36m<module>\u001b[0;34m\u001b[0m\n\u001b[1;32m     17\u001b[0m     \u001b[0mprint\u001b[0m\u001b[0;34m(\u001b[0m\u001b[0msess\u001b[0m\u001b[0;34m.\u001b[0m\u001b[0mrun\u001b[0m\u001b[0;34m(\u001b[0m\u001b[0mresult\u001b[0m\u001b[0;34m)\u001b[0m\u001b[0;34m)\u001b[0m\u001b[0;34m\u001b[0m\u001b[0m\n\u001b[1;32m     18\u001b[0m \u001b[0;34m\u001b[0m\u001b[0m\n\u001b[0;32m---> 19\u001b[0;31m \u001b[0mInteractiveSession\u001b[0m\u001b[0;34m.\u001b[0m\u001b[0mclose\u001b[0m\u001b[0;34m(\u001b[0m\u001b[0;34m)\u001b[0m\u001b[0;34m\u001b[0m\u001b[0m\n\u001b[0m",
      "\u001b[0;31mNameError\u001b[0m: name 'InteractiveSession' is not defined"
     ]
    }
   ],
   "source": [
    "a = tf.constant([\n",
    "    [2, 2],\n",
    "    [2, 2]\n",
    "])\n",
    "\n",
    "print(\"a: \", a.get_shape())\n",
    "\n",
    "b = tf.constant([\n",
    "    [2], [2]\n",
    "])\n",
    "\n",
    "print(\"b: \", b.get_shape())\n",
    "\n",
    "result = tf.matmul(a, b)\n",
    "\n",
    "with tf.compat.v1.Session() as sess:\n",
    "    print(sess.run(result))"
   ]
  },
  {
   "cell_type": "markdown",
   "metadata": {},
   "source": [
    "## Tensorflow Graphs"
   ]
  },
  {
   "cell_type": "code",
   "execution_count": 27,
   "metadata": {},
   "outputs": [
    {
     "name": "stdout",
     "output_type": "stream",
     "text": [
      "<tensorflow.python.framework.ops.Graph object at 0x138c45630>\n"
     ]
    }
   ],
   "source": [
    "# When we start the tensorflow, a default graph is created\n",
    "graph_one = tf.get_default_graph()\n",
    "print(graph_one)"
   ]
  },
  {
   "cell_type": "code",
   "execution_count": 28,
   "metadata": {},
   "outputs": [
    {
     "name": "stdout",
     "output_type": "stream",
     "text": [
      "<tensorflow.python.framework.ops.Graph object at 0x119356f98>\n",
      "True\n"
     ]
    }
   ],
   "source": [
    "# Create additional graph\n",
    "graph_two = tf.Graph()\n",
    "print(graph_two)\n",
    "\n",
    "# Set graph_two as default\n",
    "with graph_two.as_default():\n",
    "    print(graph_two is tf.get_default_graph())"
   ]
  },
  {
   "cell_type": "code",
   "execution_count": 29,
   "metadata": {},
   "outputs": [
    {
     "name": "stdout",
     "output_type": "stream",
     "text": [
      "False\n"
     ]
    }
   ],
   "source": [
    "# Outside session still graph_one is the default graph\n",
    "print(graph_two is tf.get_default_graph())"
   ]
  },
  {
   "cell_type": "markdown",
   "metadata": {},
   "source": [
    "## Tensorflow variables and placeholders\n",
    "\n",
    "There are 2 main types of tensor object in a graph:\n",
    "\n",
    "1. Variables\n",
    "    \n",
    "   * During the optimization process, TF tunes the parameters of the model in our to fit the training data.\n",
    "   * Variables can hold the values of weights and biases throughout the session.\n",
    "   * Variables do need to be initialized.\n",
    "    \n",
    "2. Placeholders\n",
    "\n",
    "   * Initially empty and are used to feed in the actually training examples.\n",
    "   * They do need a declared expected data type (eg tf.float32) with an optional shape argument."
   ]
  },
  {
   "cell_type": "code",
   "execution_count": 51,
   "metadata": {},
   "outputs": [
    {
     "name": "stdout",
     "output_type": "stream",
     "text": [
      "Tensor(\"random_uniform_23:0\", shape=(4, 4), dtype=float32)\n",
      "<tf.Variable 'Variable_18:0' shape=(4, 4) dtype=float32_ref>\n",
      "[[0.46670616 0.82471764 0.5722128  0.61715317]\n",
      " [0.9282005  0.58632135 0.32659602 0.22519696]\n",
      " [0.5983077  0.6121117  0.23408592 0.37509763]\n",
      " [0.5936545  0.02030551 0.5417532  0.38893032]]\n",
      "Tensor(\"Placeholder_3:0\", dtype=float32)\n"
     ]
    }
   ],
   "source": [
    "# Tensor flow Variables\n",
    "import tensorflow as tf\n",
    "\n",
    "sess = tf.InteractiveSession()\n",
    "\n",
    "my_tensor = tf.random_uniform((4,4), 0, 1)\n",
    "print(my_tensor)\n",
    "\n",
    "# Create Tensor variable\n",
    "my_var = tf.Variable(initial_value=my_tensor)\n",
    "print(my_var)\n",
    "\n",
    "# Variable need to initialize first before running else will throw error\n",
    "# sess.run(my_var) # Throw FailedPreconditionError\n",
    "\n",
    "# Initialize the variable\n",
    "init = tf.global_variables_initializer()\n",
    "sess.run(init)\n",
    "\n",
    "# Run the variable\n",
    "print(sess.run(my_var))\n",
    "\n",
    "# Create Placeholder\n",
    "ph = tf.placeholder(tf.float32)\n",
    "print(ph)\n",
    "\n",
    "sess.close()"
   ]
  }
 ],
 "metadata": {
  "kernelspec": {
   "display_name": "Python 3",
   "language": "python",
   "name": "python3"
  },
  "language_info": {
   "codemirror_mode": {
    "name": "ipython",
    "version": 3
   },
   "file_extension": ".py",
   "mimetype": "text/x-python",
   "name": "python",
   "nbconvert_exporter": "python",
   "pygments_lexer": "ipython3",
   "version": "3.6.0"
  },
  "toc": {
   "base_numbering": 1,
   "nav_menu": {},
   "number_sections": true,
   "sideBar": true,
   "skip_h1_title": false,
   "title_cell": "Table of Contents",
   "title_sidebar": "Contents",
   "toc_cell": false,
   "toc_position": {},
   "toc_section_display": true,
   "toc_window_display": false
  }
 },
 "nbformat": 4,
 "nbformat_minor": 2
}
