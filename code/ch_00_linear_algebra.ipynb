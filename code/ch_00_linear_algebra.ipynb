{
 "cells": [
  {
   "cell_type": "markdown",
   "metadata": {},
   "source": [
    "# Linear Algebra\n",
    "\n",
    "Notes:\n",
    "\n",
    "* Math wise performing any matrix operation for different shape is not allow or does not make sense. But in programming (Python), a scalar can be operation to a vector even they are of different shapes. This is an exception and the operation will happen element wise."
   ]
  },
  {
   "cell_type": "code",
   "execution_count": 4,
   "metadata": {},
   "outputs": [],
   "source": [
    "import numpy as np"
   ]
  },
  {
   "cell_type": "markdown",
   "metadata": {},
   "source": [
    "## Scalars\n",
    "\n",
    "Scalars are `1 * 1` size"
   ]
  },
  {
   "cell_type": "code",
   "execution_count": 29,
   "metadata": {},
   "outputs": [
    {
     "name": "stdout",
     "output_type": "stream",
     "text": [
      "5\n",
      "<class 'int'>\n"
     ]
    }
   ],
   "source": [
    "s = 5\n",
    "print(s)\n",
    "print(type(s))\n",
    "\n",
    "# Below will throw error, as scalar is a 0-dimensional object. Thus, no-shape and no-transpose\n",
    "# print(s.shape)\n",
    "# print(s.T)"
   ]
  },
  {
   "cell_type": "markdown",
   "metadata": {},
   "source": [
    "## Vectors\n",
    "\n",
    "Vectors are of `m * 1` size"
   ]
  },
  {
   "cell_type": "code",
   "execution_count": 25,
   "metadata": {},
   "outputs": [
    {
     "name": "stdout",
     "output_type": "stream",
     "text": [
      "[ 5 -2  4]\n",
      "<class 'numpy.ndarray'>\n",
      "(3,)\n",
      "[ 5 -2  4]\n"
     ]
    }
   ],
   "source": [
    "v = np.array([5, -2, 4]) # Default is row vector\n",
    "print(v)\n",
    "print(type(v))\n",
    "print(v.shape)\n",
    "print(v.T)"
   ]
  },
  {
   "cell_type": "markdown",
   "metadata": {},
   "source": [
    "## Matrices\n",
    "\n",
    "Matrices are of `m * n` size"
   ]
  },
  {
   "cell_type": "code",
   "execution_count": 26,
   "metadata": {},
   "outputs": [
    {
     "name": "stdout",
     "output_type": "stream",
     "text": [
      "[[ 5 -2  4]\n",
      " [-3  0 14]]\n",
      "<class 'numpy.ndarray'>\n",
      "(2, 3)\n",
      "[[ 5 -3]\n",
      " [-2  0]\n",
      " [ 4 14]]\n"
     ]
    }
   ],
   "source": [
    "m = np.array([\n",
    "    [5, -2, 4],\n",
    "    [-3, 0, 14]\n",
    "])\n",
    "print(m)\n",
    "print(type(m))\n",
    "print(m.shape)\n",
    "print(m.T)"
   ]
  },
  {
   "cell_type": "markdown",
   "metadata": {},
   "source": [
    "## Tensors\n",
    "\n",
    "Tensor are of `k * m * n` size"
   ]
  },
  {
   "cell_type": "code",
   "execution_count": 27,
   "metadata": {},
   "outputs": [
    {
     "name": "stdout",
     "output_type": "stream",
     "text": [
      "[[ 5 -2  4]\n",
      " [-3  6  2]]\n",
      "[[-8  7  9]\n",
      " [ 1 -5  3]]\n",
      "[[[ 5 -2  4]\n",
      "  [-3  6  2]]\n",
      "\n",
      " [[-8  7  9]\n",
      "  [ 1 -5  3]]]\n",
      "<class 'numpy.ndarray'>\n",
      "(2, 2, 3)\n",
      "[[[ 5 -8]\n",
      "  [-3  1]]\n",
      "\n",
      " [[-2  7]\n",
      "  [ 6 -5]]\n",
      "\n",
      " [[ 4  9]\n",
      "  [ 2  3]]]\n"
     ]
    }
   ],
   "source": [
    "m1 = np.array([\n",
    "    [5, -2, 4],\n",
    "    [-3, 6, 2]\n",
    "])\n",
    "\n",
    "print(m1)\n",
    "\n",
    "m2 = np.array([\n",
    "    [-8, 7, 9],\n",
    "    [1, -5, 3]\n",
    "])\n",
    "print(m2)\n",
    "\n",
    "t = np.array([m1, m2])\n",
    "print(t)\n",
    "print(type(t))\n",
    "print(t.shape)\n",
    "print(t.T)"
   ]
  },
  {
   "cell_type": "markdown",
   "metadata": {},
   "source": [
    "## Inner product / Dot product / scalar product\n",
    "\n",
    "Dot product means the sum of the products of the corresponding elements.\n",
    "\n",
    "Below is allowed:\n",
    "* `m*n` and `m*n`\n",
    "* `m*n` and `n*m`"
   ]
  },
  {
   "cell_type": "code",
   "execution_count": 30,
   "metadata": {},
   "outputs": [
    {
     "data": {
      "text/plain": [
       "-66"
      ]
     },
     "execution_count": 30,
     "metadata": {},
     "output_type": "execute_result"
    }
   ],
   "source": [
    "x = np.array([2, 8, -4])\n",
    "y = np.array([1, -7, 3])\n",
    "np.dot(x, y)"
   ]
  },
  {
   "cell_type": "code",
   "execution_count": 40,
   "metadata": {},
   "outputs": [
    {
     "name": "stdout",
     "output_type": "stream",
     "text": [
      "(4, 5)\n",
      "(5, 2)\n",
      "[[182  36]\n",
      " [ 76  44]\n",
      " [134  24]\n",
      " [ 96  41]]\n",
      "(4, 2)\n"
     ]
    }
   ],
   "source": [
    "x = np.array([\n",
    "    [5, 12, 6, 4, 7],\n",
    "    [-3, 0, 14, 7, 2],\n",
    "    [9, 7, 4, 3, 6],\n",
    "    [-4, 3, 6, 2, 9]\n",
    "])\n",
    "print(x.shape)\n",
    "\n",
    "y = np.array([\n",
    "    [2, -1],\n",
    "    [8, 0],\n",
    "    [3, 0],\n",
    "    [4, 5],\n",
    "    [6, 3]\n",
    "])\n",
    "print(y.shape)\n",
    "\n",
    "result = np.dot(x, y)\n",
    "print(result)\n",
    "print(result.shape)"
   ]
  },
  {
   "cell_type": "code",
   "execution_count": null,
   "metadata": {},
   "outputs": [],
   "source": []
  }
 ],
 "metadata": {
  "kernelspec": {
   "display_name": "Python 3",
   "language": "python",
   "name": "python3"
  },
  "language_info": {
   "codemirror_mode": {
    "name": "ipython",
    "version": 3
   },
   "file_extension": ".py",
   "mimetype": "text/x-python",
   "name": "python",
   "nbconvert_exporter": "python",
   "pygments_lexer": "ipython3",
   "version": "3.6.0"
  }
 },
 "nbformat": 4,
 "nbformat_minor": 2
}
